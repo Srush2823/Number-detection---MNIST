{
 "cells": [
  {
   "cell_type": "code",
   "execution_count": 1,
   "id": "efe88f0c",
   "metadata": {},
   "outputs": [],
   "source": [
    "import tensorflow as tf\n",
    "import tensorflow_datasets as tfds "
   ]
  },
  {
   "cell_type": "code",
   "execution_count": 2,
   "id": "cbf8282f",
   "metadata": {},
   "outputs": [],
   "source": [
    "BUFFER_SIZE = 70_000\n",
    "BATCH_SIZE = 128\n",
    "NUM_EPOCHS = 20\n"
   ]
  },
  {
   "cell_type": "code",
   "execution_count": 3,
   "id": "9444e685",
   "metadata": {},
   "outputs": [],
   "source": [
    "mnist_dataset, mnist_info = tfds.load(name ='mnist',with_info=True,as_supervised = True)"
   ]
  },
  {
   "cell_type": "code",
   "execution_count": 4,
   "id": "5ec1a029",
   "metadata": {},
   "outputs": [],
   "source": [
    "mnist_train, mnist_test = mnist_dataset['train'] , mnist_dataset['test']"
   ]
  },
  {
   "cell_type": "code",
   "execution_count": 5,
   "id": "6ae05dc8",
   "metadata": {},
   "outputs": [],
   "source": [
    "def scale(image,label):\n",
    "    image = tf.cast(image , tf.float32)\n",
    "    image /= 255.\n",
    "    \n",
    "    return image , label"
   ]
  },
  {
   "cell_type": "code",
   "execution_count": 6,
   "id": "15f9e53f",
   "metadata": {},
   "outputs": [],
   "source": [
    "train_and_validation_data = mnist_train.map(scale)"
   ]
  },
  {
   "cell_type": "code",
   "execution_count": 7,
   "id": "2c92ad1b",
   "metadata": {},
   "outputs": [],
   "source": [
    "test_data = mnist_test.map(scale)"
   ]
  },
  {
   "cell_type": "code",
   "execution_count": 8,
   "id": "9119c8da",
   "metadata": {},
   "outputs": [],
   "source": [
    "num_validation_samples = 0.1 * mnist_info.splits['train'].num_examples\n",
    "num_validation_samples = tf.cast(num_validation_samples , tf.int64)"
   ]
  },
  {
   "cell_type": "code",
   "execution_count": 9,
   "id": "7b05c51a",
   "metadata": {},
   "outputs": [],
   "source": [
    "num_test_samples = mnist_info.splits['test'].num_examples\n",
    "num_test_samples = tf.cast(num_test_samples , tf.int64)"
   ]
  },
  {
   "cell_type": "code",
   "execution_count": 10,
   "id": "6e901b22",
   "metadata": {},
   "outputs": [],
   "source": [
    "train_and_validation_data = train_and_validation_data.shuffle(BUFFER_SIZE)"
   ]
  },
  {
   "cell_type": "code",
   "execution_count": 11,
   "id": "1c22087d",
   "metadata": {},
   "outputs": [],
   "source": [
    "train_data = train_and_validation_data.skip(num_validation_samples)\n",
    "validation_data = train_and_validation_data.take(num_validation_samples)"
   ]
  },
  {
   "cell_type": "code",
   "execution_count": 12,
   "id": "a1046e94",
   "metadata": {},
   "outputs": [],
   "source": [
    "train_data = train_data.batch(BATCH_SIZE)\n",
    "validation_data = validation_data.batch(num_validation_samples)\n",
    "test_data = test_data.batch(num_test_samples)"
   ]
  },
  {
   "cell_type": "markdown",
   "id": "36ffac71",
   "metadata": {},
   "source": [
    "CREATING AND BUILDING THE MODEL"
   ]
  },
  {
   "cell_type": "code",
   "execution_count": 13,
   "id": "0803e1b0",
   "metadata": {},
   "outputs": [],
   "source": [
    "model = tf.keras.Sequential([\n",
    "    tf.keras.layers.Conv2D(50,5, activation='relu',input_shape = (28,28,1)),\n",
    "    tf.keras.layers.MaxPooling2D(pool_size=(2,2)),\n",
    "    tf.keras.layers.Conv2D(50,3, activation='relu'),\n",
    "    tf.keras.layers.MaxPooling2D(pool_size=(2,2)),\n",
    "    tf.keras.layers.Flatten(),\n",
    "    tf.keras.layers.Dense(10)\n",
    "])"
   ]
  },
  {
   "cell_type": "code",
   "execution_count": 14,
   "id": "1ecf9bc8",
   "metadata": {},
   "outputs": [
    {
     "name": "stdout",
     "output_type": "stream",
     "text": [
      "Model: \"sequential\"\n",
      "___________________________________________________________________________\n",
      " Layer (type)                    Output Shape                  Param #     \n",
      "===========================================================================\n",
      " conv2d (Conv2D)                 (None, 24, 24, 50)            1300        \n",
      "                                                                           \n",
      " max_pooling2d (MaxPooling2D)    (None, 12, 12, 50)            0           \n",
      "                                                                           \n",
      " conv2d_1 (Conv2D)               (None, 10, 10, 50)            22550       \n",
      "                                                                           \n",
      " max_pooling2d_1 (MaxPooling2D)  (None, 5, 5, 50)              0           \n",
      "                                                                           \n",
      " flatten (Flatten)               (None, 1250)                  0           \n",
      "                                                                           \n",
      " dense (Dense)                   (None, 10)                    12510       \n",
      "                                                                           \n",
      "===========================================================================\n",
      "Total params: 36360 (142.03 KB)\n",
      "Trainable params: 36360 (142.03 KB)\n",
      "Non-trainable params: 0 (0.00 Byte)\n",
      "___________________________________________________________________________\n"
     ]
    }
   ],
   "source": [
    "model.summary(line_length = 75)"
   ]
  },
  {
   "cell_type": "code",
   "execution_count": 15,
   "id": "df3b8556",
   "metadata": {},
   "outputs": [],
   "source": [
    "loss_fn = tf.keras.losses.SparseCategoricalCrossentropy(from_logits = True)"
   ]
  },
  {
   "cell_type": "code",
   "execution_count": 16,
   "id": "e4555823",
   "metadata": {},
   "outputs": [],
   "source": [
    "model.compile(optimizer='adam',loss=loss_fn,metrics=['accuracy'])"
   ]
  },
  {
   "cell_type": "code",
   "execution_count": 17,
   "id": "e565420a",
   "metadata": {},
   "outputs": [],
   "source": [
    "early_stopping = tf.keras.callbacks.EarlyStopping(\n",
    "    monitor = 'val_loss',\n",
    "    mode = 'auto',\n",
    "    min_delta = 0,\n",
    "    patience = 2,\n",
    "    verbose = 0,\n",
    "    restore_best_weights = True\n",
    ")"
   ]
  },
  {
   "cell_type": "code",
   "execution_count": null,
   "id": "597bd9bf",
   "metadata": {},
   "outputs": [
    {
     "name": "stdout",
     "output_type": "stream",
     "text": [
      "Epoch 1/20\n",
      "422/422 - 40s - loss: 0.2534 - accuracy: 0.9280 - val_loss: 0.0759 - val_accuracy: 0.9772 - 40s/epoch - 94ms/step\n",
      "Epoch 2/20\n",
      "422/422 - 37s - loss: 0.0715 - accuracy: 0.9786 - val_loss: 0.0585 - val_accuracy: 0.9818 - 37s/epoch - 88ms/step\n",
      "Epoch 3/20\n",
      "422/422 - 38s - loss: 0.0521 - accuracy: 0.9844 - val_loss: 0.0512 - val_accuracy: 0.9850 - 38s/epoch - 89ms/step\n",
      "Epoch 4/20\n",
      "422/422 - 37s - loss: 0.0427 - accuracy: 0.9874 - val_loss: 0.0424 - val_accuracy: 0.9865 - 37s/epoch - 89ms/step\n",
      "Epoch 5/20\n",
      "422/422 - 37s - loss: 0.0367 - accuracy: 0.9888 - val_loss: 0.0344 - val_accuracy: 0.9898 - 37s/epoch - 87ms/step\n",
      "Epoch 6/20\n"
     ]
    }
   ],
   "source": [
    "model.fit(\n",
    "    train_data,\n",
    "    epochs = NUM_EPOCHS,\n",
    "    callbacks = [early_stopping],\n",
    "    validation_data = validation_data,\n",
    "    verbose = 2\n",
    ")"
   ]
  },
  {
   "cell_type": "markdown",
   "id": "184e3e19",
   "metadata": {},
   "source": [
    "TEST THE MODEL : "
   ]
  },
  {
   "cell_type": "code",
   "execution_count": null,
   "id": "d4d7de49",
   "metadata": {},
   "outputs": [],
   "source": [
    "test_loss , test_accuracy = model.evaluate(test_data)"
   ]
  },
  {
   "cell_type": "code",
   "execution_count": null,
   "id": "638cf37c",
   "metadata": {},
   "outputs": [],
   "source": [
    "print('Test loss : {0: .4f}. Test accuracy: {1: .2f}%'.format(test_loss,test_accuracy*100.))"
   ]
  },
  {
   "cell_type": "markdown",
   "id": "1d401752",
   "metadata": {},
   "source": [
    "PLOT IMAGES AND RESULTS: "
   ]
  },
  {
   "cell_type": "code",
   "execution_count": null,
   "id": "843c8780",
   "metadata": {},
   "outputs": [],
   "source": [
    "import matplotlib.pyplot as plt\n",
    "import numpy as np"
   ]
  },
  {
   "cell_type": "code",
   "execution_count": null,
   "id": "bb317dfb",
   "metadata": {},
   "outputs": [],
   "source": [
    "# split the test data into 2 arrays, containing the images and corresponding labels.\n",
    "\n",
    "for images,labels in test_data.take(1):\n",
    "    images_test = images.numpy()\n",
    "    labels_test = labels.numpy()\n",
    "    \n",
    "# reshape the images into 28 x 28 form, suitable for matplotlib (orignally dimensions were : 28x28x1)\n",
    "\n",
    "images_plot = np.reshape(images_test , (10000,28,28))"
   ]
  },
  {
   "cell_type": "code",
   "execution_count": null,
   "id": "1cedcddb",
   "metadata": {},
   "outputs": [],
   "source": [
    "i = 15\n",
    "\n",
    "#plotting image: \n",
    "plt.figure(figsize=(2,2))\n",
    "plt.axis('off')\n",
    "plt.imshow(images_plot[i-1] , cmap = 'gray', aspect = 'auto')\n",
    "plt.show()\n",
    "\n",
    "#print label for image: \n",
    "print(\"Label : {}\".format(labels_test[i-1]))"
   ]
  },
  {
   "cell_type": "code",
   "execution_count": null,
   "id": "e8aa5394",
   "metadata": {},
   "outputs": [],
   "source": [
    "#obtain model's predictions bts:\n",
    "predictions = model.predict(images_test[i-1:i])\n",
    "\n",
    "#convert predictions to probabilities: \n",
    "probabilities = tf.nn.softmax(predictions).numpy()\n",
    "probabilities = probabilities*100\n",
    "\n",
    "#create bar graph to plot probabilities:\n",
    "plt.figure(figsize=(12,5))\n",
    "plt.bar(x=[1,2,3,4,5,6,7,8,9,10], height = probabilities[0],tick_label=['0','1','2','3','4','5','6','7','8','9'])"
   ]
  },
  {
   "cell_type": "code",
   "execution_count": null,
   "id": "8dd5985c",
   "metadata": {},
   "outputs": [],
   "source": []
  }
 ],
 "metadata": {
  "kernelspec": {
   "display_name": "Python 3 (ipykernel)",
   "language": "python",
   "name": "python3"
  },
  "language_info": {
   "codemirror_mode": {
    "name": "ipython",
    "version": 3
   },
   "file_extension": ".py",
   "mimetype": "text/x-python",
   "name": "python",
   "nbconvert_exporter": "python",
   "pygments_lexer": "ipython3",
   "version": "3.10.9"
  }
 },
 "nbformat": 4,
 "nbformat_minor": 5
}
